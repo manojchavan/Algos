{
 "cells": [
  {
   "cell_type": "markdown",
   "metadata": {},
   "source": [
    "# Pandas for Data Analysis"
   ]
  },
  {
   "cell_type": "code",
   "execution_count": null,
   "metadata": {
    "collapsed": true
   },
   "outputs": [],
   "source": [
    "#Dataframe = Collection of Series(row series & col series)"
   ]
  },
  {
   "cell_type": "code",
   "execution_count": 17,
   "metadata": {
    "collapsed": false
   },
   "outputs": [
    {
     "name": "stdout",
     "output_type": "stream",
     "text": [
      "           A         B         C         D         E\n",
      "R0 -0.235961  0.336522  0.036535 -0.878491  0.195301\n",
      "R1  1.280899 -0.279372 -0.036186  0.058484 -0.050853\n",
      "R2 -1.545624 -1.351457  1.717867  0.145400 -0.012347\n",
      "R3  0.754822  0.365758  0.908797  1.247870  1.110418 (4, 5)\n"
     ]
    },
    {
     "data": {
      "text/html": [
       "<div>\n",
       "<table border=\"1\" class=\"dataframe\">\n",
       "  <thead>\n",
       "    <tr style=\"text-align: right;\">\n",
       "      <th></th>\n",
       "      <th>B</th>\n",
       "      <th>E</th>\n",
       "    </tr>\n",
       "  </thead>\n",
       "  <tbody>\n",
       "    <tr>\n",
       "      <th>R0</th>\n",
       "      <td>0.336522</td>\n",
       "      <td>0.195301</td>\n",
       "    </tr>\n",
       "    <tr>\n",
       "      <th>R3</th>\n",
       "      <td>0.365758</td>\n",
       "      <td>1.110418</td>\n",
       "    </tr>\n",
       "  </tbody>\n",
       "</table>\n",
       "</div>"
      ],
      "text/plain": [
       "           B         E\n",
       "R0  0.336522  0.195301\n",
       "R3  0.365758  1.110418"
      ]
     },
     "execution_count": 17,
     "metadata": {},
     "output_type": "execute_result"
    }
   ],
   "source": [
    "import pandas as pd\n",
    "import numpy as np\n",
    "\n",
    "#.1. DataFrame Creation (Part_1)\n",
    "df = pd.DataFrame(data = np.random.randn(5,5),index = ['R0','R1','R2','R3','R4'],columns = ['A','B','C','D','E'])\n",
    "\n",
    "#Col indexing\n",
    "df[['C','A']]                              #dataframe access\n",
    "df['new'] = df['A'] * df['B'] - df['C']    #creating new col\n",
    "df.drop('new', axis = 1, inplace = True)   #delete col (inplace = remove permanently)\n",
    "df.drop('R4',axis = 0,inplace = True)      #delete row \n",
    "print(df, df.shape)\n",
    "\n",
    "#Row indexing\n",
    "df.loc[['R2','R3']]                        #labelled index\n",
    "df.iloc[0]                                 #integer index\n",
    "\n",
    "#Subset indexing\n",
    "df.loc['R0','A']                           #df.loc(row,col)\n",
    "df.loc[['R0','R3'],['B','E']]"
   ]
  },
  {
   "cell_type": "code",
   "execution_count": 128,
   "metadata": {
    "collapsed": false
   },
   "outputs": [
    {
     "name": "stdout",
     "output_type": "stream",
     "text": [
      "\n"
     ]
    }
   ],
   "source": [
    "#.2.Conditional Selection (Part_2)\n",
    "#Singular\n",
    "booldf = df > 0                        #shows T/F matrix\n",
    "df[booldf]                             #shows NnN values\n",
    "df[df > 0]\n",
    "df[df['B'] > 0]                        #return R/C with true values\n",
    "df[df['E'] > 0][['A','B','C']]         #conditional col selection + cols\n",
    "\n",
    "#Multiple\n",
    "df[ (df['E'] > 0) | (df['D'] > 1)]     #use '&,|' insteadof 'and,or' for multiple conditions \n",
    "\n",
    "# Setting and Resetting index\n",
    "df.reset_index()                       #reset index to num vals\n",
    "newind = 'CA NY IN SL SA'.split()\n",
    "df.set_index('States')                 #add inplace = True to replace\n",
    "print('')"
   ]
  },
  {
   "cell_type": "code",
   "execution_count": 132,
   "metadata": {
    "collapsed": false
   },
   "outputs": [
    {
     "name": "stdout",
     "output_type": "stream",
     "text": [
      "\n"
     ]
    }
   ],
   "source": [
    "#.3. MultiLevel index & index hierarchy (Part_3)\n",
    "\n",
    "outside = ['G1','G1','G1','G2','G2','G2']\n",
    "inside = [1,2,3,1,2,3]\n",
    "hier_index = list(zip(outside,inside))\n",
    "hier_index = pd.MultiIndex.from_tuples(hier_index)\n",
    "hier_index\n",
    "\n",
    "dtf = pd.DataFrame(data = np.random.randn(6,3),index = hier_index,columns = ['TN','MH','RJ'])\n",
    "dtf.loc['G1'].loc[2]                                #multilevel indexing\n",
    "\n",
    "dtf.index.names = ['Groups','Num']                  #assign names to index\n",
    "dtf.loc['G2'].loc[2]['MH']\n",
    "\n",
    "#Cross Section\n",
    "dtf.xs(2,level = 'Num')\n",
    "print('')"
   ]
  },
  {
   "cell_type": "code",
   "execution_count": 234,
   "metadata": {
    "collapsed": false
   },
   "outputs": [
    {
     "data": {
      "text/html": [
       "<div>\n",
       "<table border=\"1\" class=\"dataframe\">\n",
       "  <thead>\n",
       "    <tr style=\"text-align: right;\">\n",
       "      <th></th>\n",
       "      <th>AS</th>\n",
       "      <th>PP</th>\n",
       "      <th>SW</th>\n",
       "      <th>LL</th>\n",
       "      <th>SA</th>\n",
       "      <th>WS</th>\n",
       "    </tr>\n",
       "  </thead>\n",
       "  <tbody>\n",
       "    <tr>\n",
       "      <th>L0</th>\n",
       "      <td>88</td>\n",
       "      <td>85</td>\n",
       "      <td>22</td>\n",
       "      <td>85</td>\n",
       "      <td>88</td>\n",
       "      <td>22</td>\n",
       "    </tr>\n",
       "    <tr>\n",
       "      <th>L1</th>\n",
       "      <td>99</td>\n",
       "      <td>74</td>\n",
       "      <td>11</td>\n",
       "      <td>74</td>\n",
       "      <td>99</td>\n",
       "      <td>11</td>\n",
       "    </tr>\n",
       "    <tr>\n",
       "      <th>L2</th>\n",
       "      <td>44</td>\n",
       "      <td>25</td>\n",
       "      <td>77</td>\n",
       "      <td>25</td>\n",
       "      <td>44</td>\n",
       "      <td>77</td>\n",
       "    </tr>\n",
       "  </tbody>\n",
       "</table>\n",
       "</div>"
      ],
      "text/plain": [
       "    AS  PP  SW  LL  SA  WS\n",
       "L0  88  85  22  85  88  22\n",
       "L1  99  74  11  74  99  11\n",
       "L2  44  25  77  25  44  77"
      ]
     },
     "execution_count": 234,
     "metadata": {},
     "output_type": "execute_result"
    }
   ],
   "source": [
    "#.4. Missing Data in Pandas (fillna() & dropna())\n",
    "dic = {'A':[0,2,3],'B':[5,6,np.nan],'C':[9,4,np.nan]}\n",
    "df1 = pd.DataFrame(dic)\n",
    "\n",
    "#Drop missing vals\n",
    "df1.dropna()                       #drop all NaN\n",
    "df1.dropna(axis = 1)               #drop cols NaN\n",
    "df1.dropna(axis = 1,thresh = 2)\n",
    "\n",
    "#Fill Missing vals\n",
    "df1.fillna(value = 'num')                    #fill all NaN\n",
    "df1['C'].fillna(value = df1['C'].mean())     #fill cols NaN\n",
    "\n",
    "\n",
    "#--------------------------------------------------------------------------\n",
    "#.5. Grouping Data in Pandas\n",
    "data = {'Company':['Slack','Twitter','Google','Slack','Amazon','Google'],\n",
    "       'Person':['Larry','Mark','Turing','Amy','Jeff','Shuttle'],\n",
    "       'Sales':[123,789,875,258,663,919]}\n",
    "\n",
    "df2 = pd.DataFrame(data)\n",
    "grp.sum().loc['Google']\n",
    "grp.mean().loc['Slack']\n",
    "\n",
    "df2.groupby('Company').sum().loc['Slack']                 #1-liner's\n",
    "df2.groupby('Company').describe().transpose()['Google']   #1-liner's\n",
    "\n",
    "\n",
    "#--------------------------------------------------------------------------\n",
    "#.6. Merging Joining and Concatenating\n",
    "#Concatenating\n",
    "df3 = pd.DataFrame(data = np.random.randn(4,4),index = [1,2,3,4],columns = ['A','B','C','D'])\n",
    "df4 = pd.DataFrame(data = np.random.randn(4,4),index = [5,6,7,8],columns = ['A','B','C','D'])\n",
    "df5 = pd.DataFrame(data = np.random.randn(4,4),index = [9,10,11,12],columns = ['A','B','C','D'])\n",
    "pd.concat([df3,df4,df5])\n",
    "\n",
    "#Merging(Joins in SQL on any col)\n",
    "left = pd.DataFrame({'Key':['k0','k1','k2'],'A':[1,2,5],'C':[9,3,4]})\n",
    "right = pd.DataFrame({'Key':['k0','k1','k3'],'B':[6,8,7],'D':[6,6,6]})\n",
    "pd.merge(left,right,how='right', on='Key')                   #how = inner/outer/left/right\n",
    "\n",
    "#Joining(on index)\n",
    "lt = pd.DataFrame({'AS':[88,99,44],'SW':[22,11,77],'PP':[85,74,25]},index = ['L0','L1','L2'])\n",
    "rt = pd.DataFrame({'SA':[88,99,44],'WS':[22,11,77],'LL':[85,74,25]},index = ['L0','L1','L2'])\n",
    "lt.join(rt)\n",
    "lt.join(rt, how='outer')                            #how = inner/outer/left/right"
   ]
  },
  {
   "cell_type": "code",
   "execution_count": 276,
   "metadata": {
    "collapsed": false
   },
   "outputs": [
    {
     "data": {
      "text/html": [
       "<div>\n",
       "<table border=\"1\" class=\"dataframe\">\n",
       "  <thead>\n",
       "    <tr style=\"text-align: right;\">\n",
       "      <th></th>\n",
       "      <th>C</th>\n",
       "      <th>x</th>\n",
       "      <th>y</th>\n",
       "    </tr>\n",
       "    <tr>\n",
       "      <th>A</th>\n",
       "      <th>B</th>\n",
       "      <th></th>\n",
       "      <th></th>\n",
       "    </tr>\n",
       "  </thead>\n",
       "  <tbody>\n",
       "    <tr>\n",
       "      <th rowspan=\"2\" valign=\"top\">bar</th>\n",
       "      <th>one</th>\n",
       "      <td>4.0</td>\n",
       "      <td>NaN</td>\n",
       "    </tr>\n",
       "    <tr>\n",
       "      <th>two</th>\n",
       "      <td>NaN</td>\n",
       "      <td>4.5</td>\n",
       "    </tr>\n",
       "    <tr>\n",
       "      <th rowspan=\"2\" valign=\"top\">foo</th>\n",
       "      <th>one</th>\n",
       "      <td>1.0</td>\n",
       "      <td>9.0</td>\n",
       "    </tr>\n",
       "    <tr>\n",
       "      <th>two</th>\n",
       "      <td>5.0</td>\n",
       "      <td>NaN</td>\n",
       "    </tr>\n",
       "  </tbody>\n",
       "</table>\n",
       "</div>"
      ],
      "text/plain": [
       "C          x    y\n",
       "A   B            \n",
       "bar one  4.0  NaN\n",
       "    two  NaN  4.5\n",
       "foo one  1.0  9.0\n",
       "    two  5.0  NaN"
      ]
     },
     "execution_count": 276,
     "metadata": {},
     "output_type": "execute_result"
    }
   ],
   "source": [
    "# .7. Pandas Operations\n",
    "df6 = pd.DataFrame({'col1':[55,88,99,67,43,76],'col2':[11,999,888,55,77,11],'col3':['yaay','pq09r','bob','yaoy','ymmy','bob']})\n",
    "\n",
    "df6.head(3)\n",
    "df6.tail(1)\n",
    "df6['col2'].unique()                   #returns unique\n",
    "df6['col2'].nunique()                  #count of unique\n",
    "df6['col3'].value_counts()             #count of each val\n",
    "df6.sort_values('col3')                #sorting\n",
    "df6.isnull()                           #find null vals\n",
    "df6['col3'].apply(len)                 #apply inbuilt or user-defined func/lambda exp\n",
    "df6['col1'].apply(lambda x : x * x)\n",
    "\n",
    "#Attributes\n",
    "df6.columns\n",
    "df6.values\n",
    "df6.index\n",
    "\n",
    "\n",
    "#Pivot Tables\n",
    "df7 = pd.DataFrame({'A':['foo','foo','foo','bar','bar','bar'],'B':['one','one','two','two','one','two'],\n",
    "                   'C':['x','y','x','y','x','y'],'D':[1,9,5,7,4,2]})\n",
    "\n",
    "df7.pivot_table(values='D', index =['A','B'], columns='C')    #create pivot table"
   ]
  },
  {
   "cell_type": "code",
   "execution_count": 305,
   "metadata": {
    "collapsed": false
   },
   "outputs": [
    {
     "name": "stdout",
     "output_type": "stream",
     "text": [
      "f\n"
     ]
    }
   ],
   "source": [
    "#.8.Data Input and Output in Pandas\n",
    "#Pandas Can Read data from - CSV, Excel,SQL,HTML \n",
    "\n",
    "#R/W from CSV\n",
    "df8 = pd.read_csv('../resources/data/samples/iris/iris.csv')\n",
    "df8.to_csv('my_data',index = False)\n",
    "df9 = pd.read_csv('my_data')\n",
    "\n",
    "#Read from Excel\n",
    "#pd.read_excel('file_name.xlsx',sheetname = 'sheet_name')\n",
    "#df9.to_excel('file_name.xlsx',sheet_name = 'sheet_name')\n",
    "\n",
    "#Read from HTML\n",
    "htm = pd.read_html('https://www.fdic.gov/bank/individual/failed/banklist.html')\n",
    "htm[0]\n",
    "\n",
    "print('f')"
   ]
  },
  {
   "cell_type": "code",
   "execution_count": 295,
   "metadata": {
    "collapsed": false
   },
   "outputs": [
    {
     "name": "stdout",
     "output_type": "stream",
     "text": [
      "Requirement already satisfied: xlrd in ./common/.virtualenv/python3/lib/python3.4/site-packages\r\n"
     ]
    }
   ],
   "source": [
    "!pip3 install \n"
   ]
  }
 ],
 "metadata": {
  "kernelspec": {
   "display_name": "Python 3",
   "language": "python",
   "name": "python3"
  },
  "language_info": {
   "codemirror_mode": {
    "name": "ipython",
    "version": 3
   },
   "file_extension": ".py",
   "mimetype": "text/x-python",
   "name": "python",
   "nbconvert_exporter": "python",
   "pygments_lexer": "ipython3",
   "version": "3.4.3"
  },
  "widgets": {
   "state": {},
   "version": "1.1.2"
  }
 },
 "nbformat": 4,
 "nbformat_minor": 0
}
